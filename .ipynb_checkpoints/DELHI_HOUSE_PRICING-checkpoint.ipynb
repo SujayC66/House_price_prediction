{
 "cells": [
  {
   "cell_type": "code",
   "execution_count": 1,
   "id": "23ac418a",
   "metadata": {},
   "outputs": [],
   "source": [
    "#IMPORT ALL LIBRARIES\n",
    "import numpy as np\n",
    "import pandas as pd\n",
    "import seaborn as sns\n",
    "import matplotlib.pyplot as plt\n",
    "\n",
    "from sklearn.linear_model import LinearRegression\n",
    "from sklearn.model_selection import train_test_split,RandomizedSearchCV\n",
    "from sklearn.metrics import mean_squared_error,mean_absolute_error,r2_score\n",
    "from sklearn.neighbors import KNeighborsRegressor\n",
    "from sklearn.tree import DecisionTreeRegressor,plot_tree\n",
    "from sklearn.ensemble import RandomForestRegressor\n",
    "\n",
    "import warnings\n",
    "warnings.filterwarnings('ignore', '.*do not.*', )"
   ]
  },
  {
   "cell_type": "markdown",
   "id": "2771f8af",
   "metadata": {},
   "source": [
    "## 1)Problem Statement:\n",
    "    To predict prices of houses in delhi."
   ]
  },
  {
   "cell_type": "markdown",
   "id": "2ed749e4",
   "metadata": {},
   "source": [
    "## 2)Data Gathering"
   ]
  },
  {
   "cell_type": "code",
   "execution_count": 2,
   "id": "9de7e8ae",
   "metadata": {},
   "outputs": [
    {
     "data": {
      "text/html": [
       "<div>\n",
       "<style scoped>\n",
       "    .dataframe tbody tr th:only-of-type {\n",
       "        vertical-align: middle;\n",
       "    }\n",
       "\n",
       "    .dataframe tbody tr th {\n",
       "        vertical-align: top;\n",
       "    }\n",
       "\n",
       "    .dataframe thead th {\n",
       "        text-align: right;\n",
       "    }\n",
       "</style>\n",
       "<table border=\"1\" class=\"dataframe\">\n",
       "  <thead>\n",
       "    <tr style=\"text-align: right;\">\n",
       "      <th></th>\n",
       "      <th>Unnamed: 0</th>\n",
       "      <th>price</th>\n",
       "      <th>Address</th>\n",
       "      <th>area</th>\n",
       "      <th>latitude</th>\n",
       "      <th>longitude</th>\n",
       "      <th>Bedrooms</th>\n",
       "      <th>Bathrooms</th>\n",
       "      <th>Balcony</th>\n",
       "      <th>Status</th>\n",
       "      <th>neworold</th>\n",
       "      <th>parking</th>\n",
       "      <th>Furnished_status</th>\n",
       "      <th>Lift</th>\n",
       "      <th>Landmarks</th>\n",
       "      <th>type_of_building</th>\n",
       "      <th>desc</th>\n",
       "      <th>Price_sqft</th>\n",
       "    </tr>\n",
       "  </thead>\n",
       "  <tbody>\n",
       "    <tr>\n",
       "      <th>0</th>\n",
       "      <td>0</td>\n",
       "      <td>5600000.0</td>\n",
       "      <td>Noida Extension, Noida, Delhi NCR</td>\n",
       "      <td>1350.0</td>\n",
       "      <td>28.608850</td>\n",
       "      <td>77.460560</td>\n",
       "      <td>3.0</td>\n",
       "      <td>3.0</td>\n",
       "      <td>NaN</td>\n",
       "      <td>Under Construction</td>\n",
       "      <td>New Property</td>\n",
       "      <td>NaN</td>\n",
       "      <td>NaN</td>\n",
       "      <td>2.0</td>\n",
       "      <td>NaN</td>\n",
       "      <td>Flat</td>\n",
       "      <td>\\n\\n\\n                                Welcome ...</td>\n",
       "      <td>4148.148148</td>\n",
       "    </tr>\n",
       "    <tr>\n",
       "      <th>1</th>\n",
       "      <td>1</td>\n",
       "      <td>8800000.0</td>\n",
       "      <td>Sector 79, Gurgaon, Delhi NCR</td>\n",
       "      <td>1490.0</td>\n",
       "      <td>28.374236</td>\n",
       "      <td>76.952416</td>\n",
       "      <td>3.0</td>\n",
       "      <td>3.0</td>\n",
       "      <td>NaN</td>\n",
       "      <td>Ready to Move</td>\n",
       "      <td>New Property</td>\n",
       "      <td>NaN</td>\n",
       "      <td>Semi-Furnished</td>\n",
       "      <td>2.0</td>\n",
       "      <td>NaN</td>\n",
       "      <td>Flat</td>\n",
       "      <td>\\n\\n\\n                                Mapsko M...</td>\n",
       "      <td>5906.040268</td>\n",
       "    </tr>\n",
       "    <tr>\n",
       "      <th>2</th>\n",
       "      <td>2</td>\n",
       "      <td>16500000.0</td>\n",
       "      <td>Vaishali, Ghaziabad, Delhi NCR</td>\n",
       "      <td>2385.0</td>\n",
       "      <td>28.645769</td>\n",
       "      <td>77.385110</td>\n",
       "      <td>4.0</td>\n",
       "      <td>5.0</td>\n",
       "      <td>NaN</td>\n",
       "      <td>Ready to Move</td>\n",
       "      <td>New Property</td>\n",
       "      <td>1.0</td>\n",
       "      <td>Unfurnished</td>\n",
       "      <td>NaN</td>\n",
       "      <td>NaN</td>\n",
       "      <td>Flat</td>\n",
       "      <td>\\n\\n\\n                                This pro...</td>\n",
       "      <td>6918.238994</td>\n",
       "    </tr>\n",
       "    <tr>\n",
       "      <th>3</th>\n",
       "      <td>3</td>\n",
       "      <td>3810000.0</td>\n",
       "      <td>Link Road, F Block, Sector 50, Noida, Uttar Pr...</td>\n",
       "      <td>1050.0</td>\n",
       "      <td>28.566914</td>\n",
       "      <td>77.436434</td>\n",
       "      <td>2.0</td>\n",
       "      <td>2.0</td>\n",
       "      <td>3.0</td>\n",
       "      <td>NaN</td>\n",
       "      <td>New Property</td>\n",
       "      <td>1.0</td>\n",
       "      <td>Unfurnished</td>\n",
       "      <td>2.0</td>\n",
       "      <td>near Gaur Mulberry Mansion</td>\n",
       "      <td>Flat</td>\n",
       "      <td>\\n\\n\\n                                AIG Roya...</td>\n",
       "      <td>3628.571429</td>\n",
       "    </tr>\n",
       "    <tr>\n",
       "      <th>4</th>\n",
       "      <td>4</td>\n",
       "      <td>6200000.0</td>\n",
       "      <td>Jaypee Pavilion Court Sector 128, Noida, Secto...</td>\n",
       "      <td>1350.0</td>\n",
       "      <td>28.520732</td>\n",
       "      <td>77.356491</td>\n",
       "      <td>2.0</td>\n",
       "      <td>2.0</td>\n",
       "      <td>3.0</td>\n",
       "      <td>Ready to Move</td>\n",
       "      <td>Resale</td>\n",
       "      <td>1.0</td>\n",
       "      <td>NaN</td>\n",
       "      <td>3.0</td>\n",
       "      <td>NaN</td>\n",
       "      <td>Flat</td>\n",
       "      <td>\\n\\n\\n                                The prop...</td>\n",
       "      <td>4592.592593</td>\n",
       "    </tr>\n",
       "    <tr>\n",
       "      <th>...</th>\n",
       "      <td>...</td>\n",
       "      <td>...</td>\n",
       "      <td>...</td>\n",
       "      <td>...</td>\n",
       "      <td>...</td>\n",
       "      <td>...</td>\n",
       "      <td>...</td>\n",
       "      <td>...</td>\n",
       "      <td>...</td>\n",
       "      <td>...</td>\n",
       "      <td>...</td>\n",
       "      <td>...</td>\n",
       "      <td>...</td>\n",
       "      <td>...</td>\n",
       "      <td>...</td>\n",
       "      <td>...</td>\n",
       "      <td>...</td>\n",
       "      <td>...</td>\n",
       "    </tr>\n",
       "    <tr>\n",
       "      <th>7733</th>\n",
       "      <td>7733</td>\n",
       "      <td>7900000.0</td>\n",
       "      <td>Indirapuram, Ghaziabad, Delhi NCR</td>\n",
       "      <td>1095.0</td>\n",
       "      <td>28.635272</td>\n",
       "      <td>77.370395</td>\n",
       "      <td>2.0</td>\n",
       "      <td>2.0</td>\n",
       "      <td>NaN</td>\n",
       "      <td>Ready to Move</td>\n",
       "      <td>Resale</td>\n",
       "      <td>NaN</td>\n",
       "      <td>NaN</td>\n",
       "      <td>NaN</td>\n",
       "      <td>NaN</td>\n",
       "      <td>Flat</td>\n",
       "      <td>\\n                    \\n                    \\n...</td>\n",
       "      <td>7214.611872</td>\n",
       "    </tr>\n",
       "    <tr>\n",
       "      <th>7734</th>\n",
       "      <td>7734</td>\n",
       "      <td>4510000.0</td>\n",
       "      <td>Greater Noida, Sector 2, Greater Noida, Delhi NCR</td>\n",
       "      <td>1060.0</td>\n",
       "      <td>28.581431</td>\n",
       "      <td>77.452819</td>\n",
       "      <td>2.0</td>\n",
       "      <td>2.0</td>\n",
       "      <td>3.0</td>\n",
       "      <td>NaN</td>\n",
       "      <td>Resale</td>\n",
       "      <td>NaN</td>\n",
       "      <td>Semi-Furnished</td>\n",
       "      <td>NaN</td>\n",
       "      <td>ek murti chowk</td>\n",
       "      <td>Flat</td>\n",
       "      <td>\\n                    \\n                    \\n...</td>\n",
       "      <td>4254.716981</td>\n",
       "    </tr>\n",
       "    <tr>\n",
       "      <th>7735</th>\n",
       "      <td>7735</td>\n",
       "      <td>7000000.0</td>\n",
       "      <td>Crossings Republik, Ghaziabad, Delhi NCR</td>\n",
       "      <td>1898.0</td>\n",
       "      <td>28.625850</td>\n",
       "      <td>77.435336</td>\n",
       "      <td>4.0</td>\n",
       "      <td>3.0</td>\n",
       "      <td>5.0</td>\n",
       "      <td>Ready to Move</td>\n",
       "      <td>Resale</td>\n",
       "      <td>NaN</td>\n",
       "      <td>NaN</td>\n",
       "      <td>NaN</td>\n",
       "      <td>NaN</td>\n",
       "      <td>Flat</td>\n",
       "      <td>\\n                    \\n                    \\n...</td>\n",
       "      <td>3688.092729</td>\n",
       "    </tr>\n",
       "    <tr>\n",
       "      <th>7736</th>\n",
       "      <td>7736</td>\n",
       "      <td>6500000.0</td>\n",
       "      <td>Raj Nagar Extension, Ghaziabad, Raj Nagar Exte...</td>\n",
       "      <td>1400.0</td>\n",
       "      <td>28.701622</td>\n",
       "      <td>77.430153</td>\n",
       "      <td>3.0</td>\n",
       "      <td>3.0</td>\n",
       "      <td>2.0</td>\n",
       "      <td>Ready to Move</td>\n",
       "      <td>Resale</td>\n",
       "      <td>1.0</td>\n",
       "      <td>NaN</td>\n",
       "      <td>3.0</td>\n",
       "      <td>vvip mall</td>\n",
       "      <td>Flat</td>\n",
       "      <td>\\n                    \\n                    \\n...</td>\n",
       "      <td>4642.857143</td>\n",
       "    </tr>\n",
       "    <tr>\n",
       "      <th>7737</th>\n",
       "      <td>7737</td>\n",
       "      <td>6500000.0</td>\n",
       "      <td>sandal apartment, Shalimar Garden Extension 1,...</td>\n",
       "      <td>1750.0</td>\n",
       "      <td>28.693590</td>\n",
       "      <td>77.344376</td>\n",
       "      <td>3.0</td>\n",
       "      <td>2.0</td>\n",
       "      <td>3.0</td>\n",
       "      <td>Ready to Move</td>\n",
       "      <td>New Property</td>\n",
       "      <td>NaN</td>\n",
       "      <td>NaN</td>\n",
       "      <td>NaN</td>\n",
       "      <td>NaN</td>\n",
       "      <td>Flat</td>\n",
       "      <td>\\n</td>\n",
       "      <td>3714.285714</td>\n",
       "    </tr>\n",
       "  </tbody>\n",
       "</table>\n",
       "<p>7738 rows × 18 columns</p>\n",
       "</div>"
      ],
      "text/plain": [
       "      Unnamed: 0       price  \\\n",
       "0              0   5600000.0   \n",
       "1              1   8800000.0   \n",
       "2              2  16500000.0   \n",
       "3              3   3810000.0   \n",
       "4              4   6200000.0   \n",
       "...          ...         ...   \n",
       "7733        7733   7900000.0   \n",
       "7734        7734   4510000.0   \n",
       "7735        7735   7000000.0   \n",
       "7736        7736   6500000.0   \n",
       "7737        7737   6500000.0   \n",
       "\n",
       "                                                Address    area   latitude  \\\n",
       "0                     Noida Extension, Noida, Delhi NCR  1350.0  28.608850   \n",
       "1                         Sector 79, Gurgaon, Delhi NCR  1490.0  28.374236   \n",
       "2                        Vaishali, Ghaziabad, Delhi NCR  2385.0  28.645769   \n",
       "3     Link Road, F Block, Sector 50, Noida, Uttar Pr...  1050.0  28.566914   \n",
       "4     Jaypee Pavilion Court Sector 128, Noida, Secto...  1350.0  28.520732   \n",
       "...                                                 ...     ...        ...   \n",
       "7733                  Indirapuram, Ghaziabad, Delhi NCR  1095.0  28.635272   \n",
       "7734  Greater Noida, Sector 2, Greater Noida, Delhi NCR  1060.0  28.581431   \n",
       "7735           Crossings Republik, Ghaziabad, Delhi NCR  1898.0  28.625850   \n",
       "7736  Raj Nagar Extension, Ghaziabad, Raj Nagar Exte...  1400.0  28.701622   \n",
       "7737  sandal apartment, Shalimar Garden Extension 1,...  1750.0  28.693590   \n",
       "\n",
       "      longitude  Bedrooms  Bathrooms  Balcony              Status  \\\n",
       "0     77.460560       3.0        3.0      NaN  Under Construction   \n",
       "1     76.952416       3.0        3.0      NaN       Ready to Move   \n",
       "2     77.385110       4.0        5.0      NaN       Ready to Move   \n",
       "3     77.436434       2.0        2.0      3.0                 NaN   \n",
       "4     77.356491       2.0        2.0      3.0       Ready to Move   \n",
       "...         ...       ...        ...      ...                 ...   \n",
       "7733  77.370395       2.0        2.0      NaN       Ready to Move   \n",
       "7734  77.452819       2.0        2.0      3.0                 NaN   \n",
       "7735  77.435336       4.0        3.0      5.0       Ready to Move   \n",
       "7736  77.430153       3.0        3.0      2.0       Ready to Move   \n",
       "7737  77.344376       3.0        2.0      3.0       Ready to Move   \n",
       "\n",
       "          neworold  parking Furnished_status  Lift  \\\n",
       "0     New Property      NaN              NaN   2.0   \n",
       "1     New Property      NaN   Semi-Furnished   2.0   \n",
       "2     New Property      1.0      Unfurnished   NaN   \n",
       "3     New Property      1.0      Unfurnished   2.0   \n",
       "4           Resale      1.0              NaN   3.0   \n",
       "...            ...      ...              ...   ...   \n",
       "7733        Resale      NaN              NaN   NaN   \n",
       "7734        Resale      NaN   Semi-Furnished   NaN   \n",
       "7735        Resale      NaN              NaN   NaN   \n",
       "7736        Resale      1.0              NaN   3.0   \n",
       "7737  New Property      NaN              NaN   NaN   \n",
       "\n",
       "                       Landmarks type_of_building  \\\n",
       "0                            NaN             Flat   \n",
       "1                            NaN             Flat   \n",
       "2                            NaN             Flat   \n",
       "3     near Gaur Mulberry Mansion             Flat   \n",
       "4                            NaN             Flat   \n",
       "...                          ...              ...   \n",
       "7733                         NaN             Flat   \n",
       "7734              ek murti chowk             Flat   \n",
       "7735                         NaN             Flat   \n",
       "7736                   vvip mall             Flat   \n",
       "7737                         NaN             Flat   \n",
       "\n",
       "                                                   desc   Price_sqft  \n",
       "0     \\n\\n\\n                                Welcome ...  4148.148148  \n",
       "1     \\n\\n\\n                                Mapsko M...  5906.040268  \n",
       "2     \\n\\n\\n                                This pro...  6918.238994  \n",
       "3     \\n\\n\\n                                AIG Roya...  3628.571429  \n",
       "4     \\n\\n\\n                                The prop...  4592.592593  \n",
       "...                                                 ...          ...  \n",
       "7733  \\n                    \\n                    \\n...  7214.611872  \n",
       "7734  \\n                    \\n                    \\n...  4254.716981  \n",
       "7735  \\n                    \\n                    \\n...  3688.092729  \n",
       "7736  \\n                    \\n                    \\n...  4642.857143  \n",
       "7737                                                 \\n  3714.285714  \n",
       "\n",
       "[7738 rows x 18 columns]"
      ]
     },
     "execution_count": 2,
     "metadata": {},
     "output_type": "execute_result"
    }
   ],
   "source": [
    "df=pd.read_csv('Delhi_v2.csv')\n",
    "df"
   ]
  },
  {
   "cell_type": "markdown",
   "id": "11b7d487",
   "metadata": {},
   "source": [
    "## 3)Exploratory Data Analysis"
   ]
  },
  {
   "cell_type": "markdown",
   "id": "b5160bee",
   "metadata": {},
   "source": [
    "##### 3.1)To know our data"
   ]
  },
  {
   "cell_type": "code",
   "execution_count": 3,
   "id": "b128dc0d",
   "metadata": {},
   "outputs": [
    {
     "data": {
      "text/html": [
       "<div>\n",
       "<style scoped>\n",
       "    .dataframe tbody tr th:only-of-type {\n",
       "        vertical-align: middle;\n",
       "    }\n",
       "\n",
       "    .dataframe tbody tr th {\n",
       "        vertical-align: top;\n",
       "    }\n",
       "\n",
       "    .dataframe thead th {\n",
       "        text-align: right;\n",
       "    }\n",
       "</style>\n",
       "<table border=\"1\" class=\"dataframe\">\n",
       "  <thead>\n",
       "    <tr style=\"text-align: right;\">\n",
       "      <th></th>\n",
       "      <th>Unnamed: 0</th>\n",
       "      <th>price</th>\n",
       "      <th>Address</th>\n",
       "      <th>area</th>\n",
       "      <th>latitude</th>\n",
       "      <th>longitude</th>\n",
       "      <th>Bedrooms</th>\n",
       "      <th>Bathrooms</th>\n",
       "      <th>Balcony</th>\n",
       "      <th>Status</th>\n",
       "      <th>neworold</th>\n",
       "      <th>parking</th>\n",
       "      <th>Furnished_status</th>\n",
       "      <th>Lift</th>\n",
       "      <th>Landmarks</th>\n",
       "      <th>type_of_building</th>\n",
       "      <th>desc</th>\n",
       "      <th>Price_sqft</th>\n",
       "    </tr>\n",
       "  </thead>\n",
       "  <tbody>\n",
       "    <tr>\n",
       "      <th>5370</th>\n",
       "      <td>5370</td>\n",
       "      <td>6500000.0</td>\n",
       "      <td>Plot No. Gh- 1, Sector- 4b, Vasundhara Ghaziab...</td>\n",
       "      <td>1410.0</td>\n",
       "      <td>28.669033</td>\n",
       "      <td>77.376806</td>\n",
       "      <td>3.0</td>\n",
       "      <td>2.0</td>\n",
       "      <td>3.0</td>\n",
       "      <td>Ready to Move</td>\n",
       "      <td>Resale</td>\n",
       "      <td>1.0</td>\n",
       "      <td>NaN</td>\n",
       "      <td>2.0</td>\n",
       "      <td>Near Mewar Institute</td>\n",
       "      <td>Individual House</td>\n",
       "      <td>\\n                    \\n                    \\n...</td>\n",
       "      <td>4609.929078</td>\n",
       "    </tr>\n",
       "    <tr>\n",
       "      <th>7637</th>\n",
       "      <td>7637</td>\n",
       "      <td>6500000.0</td>\n",
       "      <td>Mahavir enclave part 1 Delhi 110045, Mahavir E...</td>\n",
       "      <td>900.0</td>\n",
       "      <td>28.598036</td>\n",
       "      <td>77.076525</td>\n",
       "      <td>3.0</td>\n",
       "      <td>2.0</td>\n",
       "      <td>4.0</td>\n",
       "      <td>Ready to Move</td>\n",
       "      <td>Resale</td>\n",
       "      <td>NaN</td>\n",
       "      <td>Semi-Furnished</td>\n",
       "      <td>NaN</td>\n",
       "      <td>Dasrat puri metro</td>\n",
       "      <td>Flat</td>\n",
       "      <td>\\n</td>\n",
       "      <td>7222.222222</td>\n",
       "    </tr>\n",
       "    <tr>\n",
       "      <th>154</th>\n",
       "      <td>154</td>\n",
       "      <td>7400000.0</td>\n",
       "      <td>Vasundhara, Ghaziabad, Delhi NCR</td>\n",
       "      <td>1530.0</td>\n",
       "      <td>28.655782</td>\n",
       "      <td>77.352783</td>\n",
       "      <td>3.0</td>\n",
       "      <td>2.0</td>\n",
       "      <td>3.0</td>\n",
       "      <td>Ready to Move</td>\n",
       "      <td>Resale</td>\n",
       "      <td>1.0</td>\n",
       "      <td>NaN</td>\n",
       "      <td>NaN</td>\n",
       "      <td>Near country inn Hotel</td>\n",
       "      <td>Flat</td>\n",
       "      <td>\\n                    \\n                    \\n...</td>\n",
       "      <td>4836.601307</td>\n",
       "    </tr>\n",
       "  </tbody>\n",
       "</table>\n",
       "</div>"
      ],
      "text/plain": [
       "      Unnamed: 0      price  \\\n",
       "5370        5370  6500000.0   \n",
       "7637        7637  6500000.0   \n",
       "154          154  7400000.0   \n",
       "\n",
       "                                                Address    area   latitude  \\\n",
       "5370  Plot No. Gh- 1, Sector- 4b, Vasundhara Ghaziab...  1410.0  28.669033   \n",
       "7637  Mahavir enclave part 1 Delhi 110045, Mahavir E...   900.0  28.598036   \n",
       "154                    Vasundhara, Ghaziabad, Delhi NCR  1530.0  28.655782   \n",
       "\n",
       "      longitude  Bedrooms  Bathrooms  Balcony         Status neworold  \\\n",
       "5370  77.376806       3.0        2.0      3.0  Ready to Move   Resale   \n",
       "7637  77.076525       3.0        2.0      4.0  Ready to Move   Resale   \n",
       "154   77.352783       3.0        2.0      3.0  Ready to Move   Resale   \n",
       "\n",
       "      parking Furnished_status  Lift               Landmarks  \\\n",
       "5370      1.0              NaN   2.0    Near Mewar Institute   \n",
       "7637      NaN   Semi-Furnished   NaN       Dasrat puri metro   \n",
       "154       1.0              NaN   NaN  Near country inn Hotel   \n",
       "\n",
       "      type_of_building                                               desc  \\\n",
       "5370  Individual House  \\n                    \\n                    \\n...   \n",
       "7637              Flat                                                 \\n   \n",
       "154               Flat  \\n                    \\n                    \\n...   \n",
       "\n",
       "       Price_sqft  \n",
       "5370  4609.929078  \n",
       "7637  7222.222222  \n",
       "154   4836.601307  "
      ]
     },
     "execution_count": 3,
     "metadata": {},
     "output_type": "execute_result"
    }
   ],
   "source": [
    "df.sample(3)"
   ]
  },
  {
   "cell_type": "code",
   "execution_count": 4,
   "id": "ba1e74a3",
   "metadata": {},
   "outputs": [
    {
     "name": "stdout",
     "output_type": "stream",
     "text": [
      "<class 'pandas.core.frame.DataFrame'>\n",
      "RangeIndex: 7738 entries, 0 to 7737\n",
      "Data columns (total 18 columns):\n",
      " #   Column            Non-Null Count  Dtype  \n",
      "---  ------            --------------  -----  \n",
      " 0   Unnamed: 0        7738 non-null   int64  \n",
      " 1   price             7738 non-null   float64\n",
      " 2   Address           7738 non-null   object \n",
      " 3   area              7738 non-null   float64\n",
      " 4   latitude          7738 non-null   float64\n",
      " 5   longitude         7738 non-null   float64\n",
      " 6   Bedrooms          7738 non-null   float64\n",
      " 7   Bathrooms         7738 non-null   float64\n",
      " 8   Balcony           5166 non-null   float64\n",
      " 9   Status            7164 non-null   object \n",
      " 10  neworold          7738 non-null   object \n",
      " 11  parking           2612 non-null   float64\n",
      " 12  Furnished_status  4124 non-null   object \n",
      " 13  Lift              1733 non-null   float64\n",
      " 14  Landmarks         2759 non-null   object \n",
      " 15  type_of_building  7738 non-null   object \n",
      " 16  desc              7738 non-null   object \n",
      " 17  Price_sqft        7738 non-null   float64\n",
      "dtypes: float64(10), int64(1), object(7)\n",
      "memory usage: 1.1+ MB\n"
     ]
    }
   ],
   "source": [
    "df.info()"
   ]
  },
  {
   "cell_type": "raw",
   "id": "366b3d4f",
   "metadata": {},
   "source": [
    "NOTE:\n",
    "    1)Drop columns>>>Unnamed,landmarks\n",
    "    2)Group addresses into north,south,east and west delhi using label encoding\n",
    "    3)Price>>Target Column\n",
    "    4)Column \"Status,type_of_building,desc,neworold\" convert to float using label encoding\n",
    "    "
   ]
  },
  {
   "cell_type": "code",
   "execution_count": 5,
   "id": "6f9843b5",
   "metadata": {},
   "outputs": [
    {
     "data": {
      "text/plain": [
       "Unnamed: 0           0.000000\n",
       "price                0.000000\n",
       "Address              0.000000\n",
       "area                 0.000000\n",
       "latitude             0.000000\n",
       "longitude            0.000000\n",
       "Bedrooms             0.000000\n",
       "Bathrooms            0.000000\n",
       "Balcony             33.238563\n",
       "Status               7.417937\n",
       "neworold             0.000000\n",
       "parking             66.244508\n",
       "Furnished_status    46.704575\n",
       "Lift                77.604032\n",
       "Landmarks           64.344792\n",
       "type_of_building     0.000000\n",
       "desc                 0.000000\n",
       "Price_sqft           0.000000\n",
       "dtype: float64"
      ]
     },
     "execution_count": 5,
     "metadata": {},
     "output_type": "execute_result"
    }
   ],
   "source": [
    "df.isna().mean()*100"
   ]
  },
  {
   "cell_type": "raw",
   "id": "f6373e60",
   "metadata": {},
   "source": [
    "#Column \"parking\",\"Furnished_status\",\"Landmarks\" & \"Landmarks\" have majority of null values therefore drop them\n",
    "#Column \"Balcony\" and \"Status\" has null values which can be imputed"
   ]
  },
  {
   "cell_type": "code",
   "execution_count": 6,
   "id": "f5ddd353",
   "metadata": {},
   "outputs": [
    {
     "data": {
      "text/html": [
       "<div>\n",
       "<style scoped>\n",
       "    .dataframe tbody tr th:only-of-type {\n",
       "        vertical-align: middle;\n",
       "    }\n",
       "\n",
       "    .dataframe tbody tr th {\n",
       "        vertical-align: top;\n",
       "    }\n",
       "\n",
       "    .dataframe thead th {\n",
       "        text-align: right;\n",
       "    }\n",
       "</style>\n",
       "<table border=\"1\" class=\"dataframe\">\n",
       "  <thead>\n",
       "    <tr style=\"text-align: right;\">\n",
       "      <th></th>\n",
       "      <th>Unnamed: 0</th>\n",
       "      <th>price</th>\n",
       "      <th>area</th>\n",
       "      <th>latitude</th>\n",
       "      <th>longitude</th>\n",
       "      <th>Bedrooms</th>\n",
       "      <th>Bathrooms</th>\n",
       "      <th>Balcony</th>\n",
       "      <th>parking</th>\n",
       "      <th>Lift</th>\n",
       "      <th>Price_sqft</th>\n",
       "    </tr>\n",
       "  </thead>\n",
       "  <tbody>\n",
       "    <tr>\n",
       "      <th>count</th>\n",
       "      <td>7738.000000</td>\n",
       "      <td>7.738000e+03</td>\n",
       "      <td>7738.000000</td>\n",
       "      <td>7738.000000</td>\n",
       "      <td>7738.000000</td>\n",
       "      <td>7738.000000</td>\n",
       "      <td>7738.000000</td>\n",
       "      <td>5166.000000</td>\n",
       "      <td>2612.000000</td>\n",
       "      <td>1733.000000</td>\n",
       "      <td>7738.000000</td>\n",
       "    </tr>\n",
       "    <tr>\n",
       "      <th>mean</th>\n",
       "      <td>3868.500000</td>\n",
       "      <td>8.320635e+06</td>\n",
       "      <td>1409.506591</td>\n",
       "      <td>28.552092</td>\n",
       "      <td>77.273476</td>\n",
       "      <td>2.708193</td>\n",
       "      <td>2.501163</td>\n",
       "      <td>2.426442</td>\n",
       "      <td>7.673047</td>\n",
       "      <td>1.829198</td>\n",
       "      <td>5543.660241</td>\n",
       "    </tr>\n",
       "    <tr>\n",
       "      <th>std</th>\n",
       "      <td>2233.912524</td>\n",
       "      <td>7.223197e+06</td>\n",
       "      <td>718.929581</td>\n",
       "      <td>0.107420</td>\n",
       "      <td>0.180606</td>\n",
       "      <td>0.877026</td>\n",
       "      <td>0.867050</td>\n",
       "      <td>1.083677</td>\n",
       "      <td>60.417508</td>\n",
       "      <td>1.192607</td>\n",
       "      <td>2408.659307</td>\n",
       "    </tr>\n",
       "    <tr>\n",
       "      <th>min</th>\n",
       "      <td>0.000000</td>\n",
       "      <td>1.700000e+06</td>\n",
       "      <td>501.000000</td>\n",
       "      <td>28.240023</td>\n",
       "      <td>76.884101</td>\n",
       "      <td>2.000000</td>\n",
       "      <td>2.000000</td>\n",
       "      <td>1.000000</td>\n",
       "      <td>1.000000</td>\n",
       "      <td>0.000000</td>\n",
       "      <td>2100.000000</td>\n",
       "    </tr>\n",
       "    <tr>\n",
       "      <th>25%</th>\n",
       "      <td>1934.250000</td>\n",
       "      <td>4.200000e+06</td>\n",
       "      <td>990.000000</td>\n",
       "      <td>28.455539</td>\n",
       "      <td>77.078590</td>\n",
       "      <td>2.000000</td>\n",
       "      <td>2.000000</td>\n",
       "      <td>2.000000</td>\n",
       "      <td>1.000000</td>\n",
       "      <td>1.000000</td>\n",
       "      <td>3950.986915</td>\n",
       "    </tr>\n",
       "    <tr>\n",
       "      <th>50%</th>\n",
       "      <td>3868.500000</td>\n",
       "      <td>6.000000e+06</td>\n",
       "      <td>1250.000000</td>\n",
       "      <td>28.574637</td>\n",
       "      <td>77.345320</td>\n",
       "      <td>3.000000</td>\n",
       "      <td>2.000000</td>\n",
       "      <td>2.000000</td>\n",
       "      <td>1.000000</td>\n",
       "      <td>2.000000</td>\n",
       "      <td>4972.674332</td>\n",
       "    </tr>\n",
       "    <tr>\n",
       "      <th>75%</th>\n",
       "      <td>5802.750000</td>\n",
       "      <td>9.500000e+06</td>\n",
       "      <td>1650.000000</td>\n",
       "      <td>28.642520</td>\n",
       "      <td>77.421054</td>\n",
       "      <td>3.000000</td>\n",
       "      <td>3.000000</td>\n",
       "      <td>3.000000</td>\n",
       "      <td>2.000000</td>\n",
       "      <td>2.000000</td>\n",
       "      <td>6350.638693</td>\n",
       "    </tr>\n",
       "    <tr>\n",
       "      <th>max</th>\n",
       "      <td>7737.000000</td>\n",
       "      <td>8.500000e+07</td>\n",
       "      <td>9500.000000</td>\n",
       "      <td>28.799748</td>\n",
       "      <td>77.688028</td>\n",
       "      <td>10.000000</td>\n",
       "      <td>10.000000</td>\n",
       "      <td>10.000000</td>\n",
       "      <td>1406.000000</td>\n",
       "      <td>10.000000</td>\n",
       "      <td>44378.698225</td>\n",
       "    </tr>\n",
       "  </tbody>\n",
       "</table>\n",
       "</div>"
      ],
      "text/plain": [
       "        Unnamed: 0         price         area     latitude    longitude  \\\n",
       "count  7738.000000  7.738000e+03  7738.000000  7738.000000  7738.000000   \n",
       "mean   3868.500000  8.320635e+06  1409.506591    28.552092    77.273476   \n",
       "std    2233.912524  7.223197e+06   718.929581     0.107420     0.180606   \n",
       "min       0.000000  1.700000e+06   501.000000    28.240023    76.884101   \n",
       "25%    1934.250000  4.200000e+06   990.000000    28.455539    77.078590   \n",
       "50%    3868.500000  6.000000e+06  1250.000000    28.574637    77.345320   \n",
       "75%    5802.750000  9.500000e+06  1650.000000    28.642520    77.421054   \n",
       "max    7737.000000  8.500000e+07  9500.000000    28.799748    77.688028   \n",
       "\n",
       "          Bedrooms    Bathrooms      Balcony      parking         Lift  \\\n",
       "count  7738.000000  7738.000000  5166.000000  2612.000000  1733.000000   \n",
       "mean      2.708193     2.501163     2.426442     7.673047     1.829198   \n",
       "std       0.877026     0.867050     1.083677    60.417508     1.192607   \n",
       "min       2.000000     2.000000     1.000000     1.000000     0.000000   \n",
       "25%       2.000000     2.000000     2.000000     1.000000     1.000000   \n",
       "50%       3.000000     2.000000     2.000000     1.000000     2.000000   \n",
       "75%       3.000000     3.000000     3.000000     2.000000     2.000000   \n",
       "max      10.000000    10.000000    10.000000  1406.000000    10.000000   \n",
       "\n",
       "         Price_sqft  \n",
       "count   7738.000000  \n",
       "mean    5543.660241  \n",
       "std     2408.659307  \n",
       "min     2100.000000  \n",
       "25%     3950.986915  \n",
       "50%     4972.674332  \n",
       "75%     6350.638693  \n",
       "max    44378.698225  "
      ]
     },
     "execution_count": 6,
     "metadata": {},
     "output_type": "execute_result"
    }
   ],
   "source": [
    "df.describe()"
   ]
  },
  {
   "cell_type": "markdown",
   "id": "220a40ec",
   "metadata": {},
   "source": [
    "## 4)Feature Engineering"
   ]
  },
  {
   "cell_type": "code",
   "execution_count": 7,
   "id": "59775225",
   "metadata": {},
   "outputs": [
    {
     "data": {
      "text/plain": [
       "array(['Under Construction', 'Ready to Move', nan], dtype=object)"
      ]
     },
     "execution_count": 7,
     "metadata": {},
     "output_type": "execute_result"
    }
   ],
   "source": [
    "df[\"Status\"].unique()"
   ]
  },
  {
   "cell_type": "code",
   "execution_count": 8,
   "id": "91dbeccb",
   "metadata": {},
   "outputs": [
    {
     "data": {
      "text/plain": [
       "Ready to Move         7148\n",
       "Under Construction      16\n",
       "Name: Status, dtype: int64"
      ]
     },
     "execution_count": 8,
     "metadata": {},
     "output_type": "execute_result"
    }
   ],
   "source": [
    "df[\"Status\"].value_counts()"
   ]
  },
  {
   "cell_type": "code",
   "execution_count": 9,
   "id": "789a82b3",
   "metadata": {},
   "outputs": [
    {
     "data": {
      "text/plain": [
       "'Ready to Move'"
      ]
     },
     "execution_count": 9,
     "metadata": {},
     "output_type": "execute_result"
    }
   ],
   "source": [
    "df[\"Status\"].mode()[0]"
   ]
  },
  {
   "cell_type": "code",
   "execution_count": 10,
   "id": "ee77f8b3",
   "metadata": {},
   "outputs": [],
   "source": [
    "df[\"Status\"]=df[\"Status\"].fillna(df[\"Status\"].mode()[0])"
   ]
  },
  {
   "cell_type": "code",
   "execution_count": 11,
   "id": "d7862351",
   "metadata": {},
   "outputs": [
    {
     "data": {
      "text/plain": [
       "{'Ready to Move': 7722, 'Under Construction': 16}"
      ]
     },
     "execution_count": 11,
     "metadata": {},
     "output_type": "execute_result"
    }
   ],
   "source": [
    "df[\"Status\"].value_counts().to_dict()"
   ]
  },
  {
   "cell_type": "code",
   "execution_count": 12,
   "id": "5f01f758",
   "metadata": {},
   "outputs": [],
   "source": [
    "df[\"Status\"]=df[\"Status\"].replace({'Ready to Move': 1, 'Under Construction': 0})"
   ]
  },
  {
   "cell_type": "code",
   "execution_count": 13,
   "id": "3b7a4936",
   "metadata": {},
   "outputs": [
    {
     "data": {
      "text/plain": [
       "2.0     1793\n",
       "3.0     1516\n",
       "1.0     1082\n",
       "4.0      613\n",
       "5.0      130\n",
       "6.0       21\n",
       "7.0        4\n",
       "10.0       3\n",
       "8.0        3\n",
       "9.0        1\n",
       "Name: Balcony, dtype: int64"
      ]
     },
     "execution_count": 13,
     "metadata": {},
     "output_type": "execute_result"
    }
   ],
   "source": [
    "df[\"Balcony\"].value_counts()"
   ]
  },
  {
   "cell_type": "code",
   "execution_count": 14,
   "id": "0c5ace76",
   "metadata": {},
   "outputs": [],
   "source": [
    "df[\"Balcony\"].fillna(df[\"Balcony\"].median(),inplace=True)"
   ]
  },
  {
   "cell_type": "code",
   "execution_count": 15,
   "id": "64d61cee",
   "metadata": {},
   "outputs": [
    {
     "data": {
      "text/plain": [
       "{'Resale': 6905, 'New Property': 833}"
      ]
     },
     "execution_count": 15,
     "metadata": {},
     "output_type": "execute_result"
    }
   ],
   "source": [
    "df[\"neworold\"].value_counts().to_dict()"
   ]
  },
  {
   "cell_type": "code",
   "execution_count": 16,
   "id": "9305a522",
   "metadata": {},
   "outputs": [],
   "source": [
    "df[\"neworold\"].replace({'Resale': 0, 'New Property': 1},inplace=True)"
   ]
  },
  {
   "cell_type": "code",
   "execution_count": 17,
   "id": "a402b68b",
   "metadata": {},
   "outputs": [
    {
     "data": {
      "text/plain": [
       "{'Semi-Furnished': 2199, 'Unfurnished': 1230, 'Furnished': 695}"
      ]
     },
     "execution_count": 17,
     "metadata": {},
     "output_type": "execute_result"
    }
   ],
   "source": [
    "df['Furnished_status'].value_counts().to_dict()"
   ]
  },
  {
   "cell_type": "code",
   "execution_count": 18,
   "id": "d4f529f0",
   "metadata": {},
   "outputs": [],
   "source": [
    "df['Furnished_status'].replace({'Semi-Furnished': 1, 'Unfurnished': 0, 'Furnished': 2},inplace=True)"
   ]
  },
  {
   "cell_type": "code",
   "execution_count": 19,
   "id": "aa89f61c",
   "metadata": {},
   "outputs": [
    {
     "data": {
      "text/plain": [
       "0.8702715809893308"
      ]
     },
     "execution_count": 19,
     "metadata": {},
     "output_type": "execute_result"
    }
   ],
   "source": [
    "df['Furnished_status'].mean()"
   ]
  },
  {
   "cell_type": "code",
   "execution_count": 20,
   "id": "6da66d79",
   "metadata": {},
   "outputs": [],
   "source": [
    "df['Furnished_status'].fillna(df['Furnished_status'].median(),inplace=True)"
   ]
  },
  {
   "cell_type": "code",
   "execution_count": 21,
   "id": "b89dd01d",
   "metadata": {},
   "outputs": [
    {
     "data": {
      "text/plain": [
       "{'Flat': 6226, 'Individual House': 1512}"
      ]
     },
     "execution_count": 21,
     "metadata": {},
     "output_type": "execute_result"
    }
   ],
   "source": [
    "df[\"type_of_building\"].value_counts().to_dict()"
   ]
  },
  {
   "cell_type": "code",
   "execution_count": 22,
   "id": "e1c0029a",
   "metadata": {},
   "outputs": [],
   "source": [
    "df[\"type_of_building\"].replace({'Flat': 1, 'Individual House': 2},inplace=True)"
   ]
  },
  {
   "cell_type": "code",
   "execution_count": 23,
   "id": "d8df1460",
   "metadata": {},
   "outputs": [
    {
     "data": {
      "text/plain": [
       "array([\"\\n\\n\\n                                Welcome To Smart Home - SKA Divya Towers is a fabulous new residential development launched by a reputed builder SKA Group located in Noida Extension (Greater Noida West), this is an amazing high quality residential development with opulent 3 BHK apartments. SKA Divya Towers Noida Extension give you the all modern facilities and amenities like a clubhouse, basketball, swimming pool, kid's pool, gym, pool table, table tennis, elderly sitting spaces and more greenery. Also give you the best connectivity which all the major area of the Noida, Greater Noida, Ghaziabad. Construction will be done with the latest construction technologies which benefit both the environment and residents.\\n                            \\nmore\\n\\n\",\n",
       "       \"\\n\\n\\n                                Mapsko MountVille is an artistic representation customized for those who apprehend the merit of luxury and abundance of greenery. Nestled in sector-79, Gurugram, offering 3-4 BHK luxury apartments in gurgaon is a pure model of urban architecture, which is designed to perfection. Aravali is a quintessential complement to this wonderful project, which has been marvelously arranged by the World's leading landscape architects- LSG Inc, USA and structured by Shapoorji Pallonji.\\n                            \\nmore\\n\\n\",\n",
       "       '\\n\\n\\n                                This project is spread across 7 acres of lush green land. The modern architecture of the apartments perfectly complements the dream home desire of buyers. With 4-sided ventilation, wooden flooring and a modular kitchen, Cloud 9 Vaishali aims to provide residents a smooth, and a modern cosmopolitan lifestyle.\\n                            \\nmore\\n\\n',\n",
       "       ...,\n",
       "       '\\n                    \\n                    \\n                    \\n                       this property  spacious  like 3 bhk\\n                    \\n                ',\n",
       "       '\\n                    \\n                    \\n                    \\n                        This Multistorey Apartment is located at 8th floor in a building of total 18 floors. Modern construction is done in this newly built Multistorey Apartment. \\n                    \\n                ',\n",
       "       '\\n                    \\n                    \\n                    \\n                       vvip flat available for sale 3bhk unit below 10th floor\\n                    \\n                '],\n",
       "      dtype=object)"
      ]
     },
     "execution_count": 23,
     "metadata": {},
     "output_type": "execute_result"
    }
   ],
   "source": [
    "#Drop this column\n",
    "df[\"desc\"].unique()"
   ]
  },
  {
   "cell_type": "code",
   "execution_count": null,
   "id": "7efc3b84",
   "metadata": {},
   "outputs": [],
   "source": []
  },
  {
   "cell_type": "code",
   "execution_count": 24,
   "id": "71a3d988",
   "metadata": {},
   "outputs": [
    {
     "data": {
      "text/plain": [
       " Ghaziabad              2096\n",
       " Gurgaon                1815\n",
       " Noida                  1091\n",
       " Greater Noida           961\n",
       " Faridabad               472\n",
       " New Delhi - West        440\n",
       " New Delhi - South       330\n",
       " New Delhi - Dwarka      188\n",
       " New Delhi - East        182\n",
       " New Delhi - Rohini       81\n",
       " New Delhi - North        53\n",
       " New Delhi - Central      12\n",
       " New Delhi                 7\n",
       " Gurgaon - South           5\n",
       "Noida                      3\n",
       " Gurgaon - North           1\n",
       "Greater Noida              1\n",
       "Name: city_name1, dtype: int64"
      ]
     },
     "execution_count": 24,
     "metadata": {},
     "output_type": "execute_result"
    }
   ],
   "source": [
    "city_name=[]\n",
    "city_name1=[]\n",
    "\n",
    "for city in df['Address']:\n",
    "    var=city.split(\",\")\n",
    "    city_name.append(var[-1])\n",
    "    city_name1.append(var[-2])\n",
    "# print(city_name)\n",
    "# print(city_name1)\n",
    "    \n",
    "df['city_name1']=city_name1    \n",
    "# df.head()\n",
    "s1=pd.Series(city_name1)\n",
    "df['city_name1'].value_counts()"
   ]
  },
  {
   "cell_type": "markdown",
   "id": "e23ec016",
   "metadata": {},
   "source": [
    "## 5)Feature Selection"
   ]
  },
  {
   "cell_type": "code",
   "execution_count": 25,
   "id": "e29fd0c7",
   "metadata": {},
   "outputs": [],
   "source": [
    "df=df.drop([\"Unnamed: 0\",\"Address\",\"parking\",\"Lift\",\"Landmarks\",\"desc\"],axis=1)"
   ]
  },
  {
   "cell_type": "code",
   "execution_count": 27,
   "id": "7ff8f333",
   "metadata": {},
   "outputs": [
    {
     "data": {
      "text/html": [
       "<div>\n",
       "<style scoped>\n",
       "    .dataframe tbody tr th:only-of-type {\n",
       "        vertical-align: middle;\n",
       "    }\n",
       "\n",
       "    .dataframe tbody tr th {\n",
       "        vertical-align: top;\n",
       "    }\n",
       "\n",
       "    .dataframe thead th {\n",
       "        text-align: right;\n",
       "    }\n",
       "</style>\n",
       "<table border=\"1\" class=\"dataframe\">\n",
       "  <thead>\n",
       "    <tr style=\"text-align: right;\">\n",
       "      <th></th>\n",
       "      <th>price</th>\n",
       "      <th>area</th>\n",
       "      <th>latitude</th>\n",
       "      <th>longitude</th>\n",
       "      <th>Bedrooms</th>\n",
       "      <th>Bathrooms</th>\n",
       "      <th>Balcony</th>\n",
       "      <th>Status</th>\n",
       "      <th>neworold</th>\n",
       "      <th>Furnished_status</th>\n",
       "      <th>type_of_building</th>\n",
       "      <th>Price_sqft</th>\n",
       "      <th>city_name1</th>\n",
       "    </tr>\n",
       "  </thead>\n",
       "  <tbody>\n",
       "    <tr>\n",
       "      <th>0</th>\n",
       "      <td>5600000.0</td>\n",
       "      <td>1350.0</td>\n",
       "      <td>28.608850</td>\n",
       "      <td>77.460560</td>\n",
       "      <td>3.0</td>\n",
       "      <td>3.0</td>\n",
       "      <td>2.0</td>\n",
       "      <td>0</td>\n",
       "      <td>1</td>\n",
       "      <td>1.0</td>\n",
       "      <td>1</td>\n",
       "      <td>4148.148148</td>\n",
       "      <td>Noida</td>\n",
       "    </tr>\n",
       "    <tr>\n",
       "      <th>1</th>\n",
       "      <td>8800000.0</td>\n",
       "      <td>1490.0</td>\n",
       "      <td>28.374236</td>\n",
       "      <td>76.952416</td>\n",
       "      <td>3.0</td>\n",
       "      <td>3.0</td>\n",
       "      <td>2.0</td>\n",
       "      <td>1</td>\n",
       "      <td>1</td>\n",
       "      <td>1.0</td>\n",
       "      <td>1</td>\n",
       "      <td>5906.040268</td>\n",
       "      <td>Gurgaon</td>\n",
       "    </tr>\n",
       "    <tr>\n",
       "      <th>2</th>\n",
       "      <td>16500000.0</td>\n",
       "      <td>2385.0</td>\n",
       "      <td>28.645769</td>\n",
       "      <td>77.385110</td>\n",
       "      <td>4.0</td>\n",
       "      <td>5.0</td>\n",
       "      <td>2.0</td>\n",
       "      <td>1</td>\n",
       "      <td>1</td>\n",
       "      <td>0.0</td>\n",
       "      <td>1</td>\n",
       "      <td>6918.238994</td>\n",
       "      <td>Ghaziabad</td>\n",
       "    </tr>\n",
       "    <tr>\n",
       "      <th>3</th>\n",
       "      <td>3810000.0</td>\n",
       "      <td>1050.0</td>\n",
       "      <td>28.566914</td>\n",
       "      <td>77.436434</td>\n",
       "      <td>2.0</td>\n",
       "      <td>2.0</td>\n",
       "      <td>3.0</td>\n",
       "      <td>1</td>\n",
       "      <td>1</td>\n",
       "      <td>0.0</td>\n",
       "      <td>1</td>\n",
       "      <td>3628.571429</td>\n",
       "      <td>Greater Noida</td>\n",
       "    </tr>\n",
       "    <tr>\n",
       "      <th>4</th>\n",
       "      <td>6200000.0</td>\n",
       "      <td>1350.0</td>\n",
       "      <td>28.520732</td>\n",
       "      <td>77.356491</td>\n",
       "      <td>2.0</td>\n",
       "      <td>2.0</td>\n",
       "      <td>3.0</td>\n",
       "      <td>1</td>\n",
       "      <td>0</td>\n",
       "      <td>1.0</td>\n",
       "      <td>1</td>\n",
       "      <td>4592.592593</td>\n",
       "      <td>Noida</td>\n",
       "    </tr>\n",
       "    <tr>\n",
       "      <th>...</th>\n",
       "      <td>...</td>\n",
       "      <td>...</td>\n",
       "      <td>...</td>\n",
       "      <td>...</td>\n",
       "      <td>...</td>\n",
       "      <td>...</td>\n",
       "      <td>...</td>\n",
       "      <td>...</td>\n",
       "      <td>...</td>\n",
       "      <td>...</td>\n",
       "      <td>...</td>\n",
       "      <td>...</td>\n",
       "      <td>...</td>\n",
       "    </tr>\n",
       "    <tr>\n",
       "      <th>7733</th>\n",
       "      <td>7900000.0</td>\n",
       "      <td>1095.0</td>\n",
       "      <td>28.635272</td>\n",
       "      <td>77.370395</td>\n",
       "      <td>2.0</td>\n",
       "      <td>2.0</td>\n",
       "      <td>2.0</td>\n",
       "      <td>1</td>\n",
       "      <td>0</td>\n",
       "      <td>1.0</td>\n",
       "      <td>1</td>\n",
       "      <td>7214.611872</td>\n",
       "      <td>Ghaziabad</td>\n",
       "    </tr>\n",
       "    <tr>\n",
       "      <th>7734</th>\n",
       "      <td>4510000.0</td>\n",
       "      <td>1060.0</td>\n",
       "      <td>28.581431</td>\n",
       "      <td>77.452819</td>\n",
       "      <td>2.0</td>\n",
       "      <td>2.0</td>\n",
       "      <td>3.0</td>\n",
       "      <td>1</td>\n",
       "      <td>0</td>\n",
       "      <td>1.0</td>\n",
       "      <td>1</td>\n",
       "      <td>4254.716981</td>\n",
       "      <td>Greater Noida</td>\n",
       "    </tr>\n",
       "    <tr>\n",
       "      <th>7735</th>\n",
       "      <td>7000000.0</td>\n",
       "      <td>1898.0</td>\n",
       "      <td>28.625850</td>\n",
       "      <td>77.435336</td>\n",
       "      <td>4.0</td>\n",
       "      <td>3.0</td>\n",
       "      <td>5.0</td>\n",
       "      <td>1</td>\n",
       "      <td>0</td>\n",
       "      <td>1.0</td>\n",
       "      <td>1</td>\n",
       "      <td>3688.092729</td>\n",
       "      <td>Ghaziabad</td>\n",
       "    </tr>\n",
       "    <tr>\n",
       "      <th>7736</th>\n",
       "      <td>6500000.0</td>\n",
       "      <td>1400.0</td>\n",
       "      <td>28.701622</td>\n",
       "      <td>77.430153</td>\n",
       "      <td>3.0</td>\n",
       "      <td>3.0</td>\n",
       "      <td>2.0</td>\n",
       "      <td>1</td>\n",
       "      <td>0</td>\n",
       "      <td>1.0</td>\n",
       "      <td>1</td>\n",
       "      <td>4642.857143</td>\n",
       "      <td>Ghaziabad</td>\n",
       "    </tr>\n",
       "    <tr>\n",
       "      <th>7737</th>\n",
       "      <td>6500000.0</td>\n",
       "      <td>1750.0</td>\n",
       "      <td>28.693590</td>\n",
       "      <td>77.344376</td>\n",
       "      <td>3.0</td>\n",
       "      <td>2.0</td>\n",
       "      <td>3.0</td>\n",
       "      <td>1</td>\n",
       "      <td>1</td>\n",
       "      <td>1.0</td>\n",
       "      <td>1</td>\n",
       "      <td>3714.285714</td>\n",
       "      <td>Ghaziabad</td>\n",
       "    </tr>\n",
       "  </tbody>\n",
       "</table>\n",
       "<p>7738 rows × 13 columns</p>\n",
       "</div>"
      ],
      "text/plain": [
       "           price    area   latitude  longitude  Bedrooms  Bathrooms  Balcony  \\\n",
       "0      5600000.0  1350.0  28.608850  77.460560       3.0        3.0      2.0   \n",
       "1      8800000.0  1490.0  28.374236  76.952416       3.0        3.0      2.0   \n",
       "2     16500000.0  2385.0  28.645769  77.385110       4.0        5.0      2.0   \n",
       "3      3810000.0  1050.0  28.566914  77.436434       2.0        2.0      3.0   \n",
       "4      6200000.0  1350.0  28.520732  77.356491       2.0        2.0      3.0   \n",
       "...          ...     ...        ...        ...       ...        ...      ...   \n",
       "7733   7900000.0  1095.0  28.635272  77.370395       2.0        2.0      2.0   \n",
       "7734   4510000.0  1060.0  28.581431  77.452819       2.0        2.0      3.0   \n",
       "7735   7000000.0  1898.0  28.625850  77.435336       4.0        3.0      5.0   \n",
       "7736   6500000.0  1400.0  28.701622  77.430153       3.0        3.0      2.0   \n",
       "7737   6500000.0  1750.0  28.693590  77.344376       3.0        2.0      3.0   \n",
       "\n",
       "      Status  neworold  Furnished_status  type_of_building   Price_sqft  \\\n",
       "0          0         1               1.0                 1  4148.148148   \n",
       "1          1         1               1.0                 1  5906.040268   \n",
       "2          1         1               0.0                 1  6918.238994   \n",
       "3          1         1               0.0                 1  3628.571429   \n",
       "4          1         0               1.0                 1  4592.592593   \n",
       "...      ...       ...               ...               ...          ...   \n",
       "7733       1         0               1.0                 1  7214.611872   \n",
       "7734       1         0               1.0                 1  4254.716981   \n",
       "7735       1         0               1.0                 1  3688.092729   \n",
       "7736       1         0               1.0                 1  4642.857143   \n",
       "7737       1         1               1.0                 1  3714.285714   \n",
       "\n",
       "          city_name1  \n",
       "0              Noida  \n",
       "1            Gurgaon  \n",
       "2          Ghaziabad  \n",
       "3      Greater Noida  \n",
       "4              Noida  \n",
       "...              ...  \n",
       "7733       Ghaziabad  \n",
       "7734   Greater Noida  \n",
       "7735       Ghaziabad  \n",
       "7736       Ghaziabad  \n",
       "7737       Ghaziabad  \n",
       "\n",
       "[7738 rows x 13 columns]"
      ]
     },
     "execution_count": 27,
     "metadata": {},
     "output_type": "execute_result"
    }
   ],
   "source": [
    "df"
   ]
  },
  {
   "cell_type": "code",
   "execution_count": 37,
   "id": "6fac58b8",
   "metadata": {},
   "outputs": [],
   "source": [
    "counts=df['city_name1'].value_counts()\n",
    "df['city_name1'].nunique()\n",
    "threshold=100\n",
    "rep=counts[counts<=threshold].index\n",
    "df1=pd.get_dummies(df['city_name1'].replace(rep,'uncommon'))"
   ]
  },
  {
   "cell_type": "code",
   "execution_count": 41,
   "id": "b62ec198",
   "metadata": {},
   "outputs": [],
   "source": [
    "final_df=pd.concat([df,df1],axis=1,ignore_index=False,join='outer')"
   ]
  },
  {
   "cell_type": "code",
   "execution_count": 42,
   "id": "24bbca79",
   "metadata": {},
   "outputs": [
    {
     "name": "stdout",
     "output_type": "stream",
     "text": [
      "<class 'pandas.core.frame.DataFrame'>\n",
      "RangeIndex: 7738 entries, 0 to 7737\n",
      "Data columns (total 23 columns):\n",
      " #   Column               Non-Null Count  Dtype  \n",
      "---  ------               --------------  -----  \n",
      " 0   price                7738 non-null   float64\n",
      " 1   area                 7738 non-null   float64\n",
      " 2   latitude             7738 non-null   float64\n",
      " 3   longitude            7738 non-null   float64\n",
      " 4   Bedrooms             7738 non-null   float64\n",
      " 5   Bathrooms            7738 non-null   float64\n",
      " 6   Balcony              7738 non-null   float64\n",
      " 7   Status               7738 non-null   int64  \n",
      " 8   neworold             7738 non-null   int64  \n",
      " 9   Furnished_status     7738 non-null   float64\n",
      " 10  type_of_building     7738 non-null   int64  \n",
      " 11  Price_sqft           7738 non-null   float64\n",
      " 12  city_name1           7738 non-null   object \n",
      " 13   Faridabad           7738 non-null   uint8  \n",
      " 14   Ghaziabad           7738 non-null   uint8  \n",
      " 15   Greater Noida       7738 non-null   uint8  \n",
      " 16   Gurgaon             7738 non-null   uint8  \n",
      " 17   New Delhi - Dwarka  7738 non-null   uint8  \n",
      " 18   New Delhi - East    7738 non-null   uint8  \n",
      " 19   New Delhi - South   7738 non-null   uint8  \n",
      " 20   New Delhi - West    7738 non-null   uint8  \n",
      " 21   Noida               7738 non-null   uint8  \n",
      " 22  uncommon             7738 non-null   uint8  \n",
      "dtypes: float64(9), int64(3), object(1), uint8(10)\n",
      "memory usage: 861.6+ KB\n"
     ]
    }
   ],
   "source": [
    "final_df.info()"
   ]
  },
  {
   "cell_type": "code",
   "execution_count": 44,
   "id": "84c4582f",
   "metadata": {},
   "outputs": [
    {
     "name": "stdout",
     "output_type": "stream",
     "text": [
      "<class 'pandas.core.frame.DataFrame'>\n",
      "RangeIndex: 7738 entries, 0 to 7737\n",
      "Data columns (total 22 columns):\n",
      " #   Column               Non-Null Count  Dtype  \n",
      "---  ------               --------------  -----  \n",
      " 0   price                7738 non-null   float64\n",
      " 1   area                 7738 non-null   float64\n",
      " 2   latitude             7738 non-null   float64\n",
      " 3   longitude            7738 non-null   float64\n",
      " 4   Bedrooms             7738 non-null   float64\n",
      " 5   Bathrooms            7738 non-null   float64\n",
      " 6   Balcony              7738 non-null   float64\n",
      " 7   Status               7738 non-null   int64  \n",
      " 8   neworold             7738 non-null   int64  \n",
      " 9   Furnished_status     7738 non-null   float64\n",
      " 10  type_of_building     7738 non-null   int64  \n",
      " 11  Price_sqft           7738 non-null   float64\n",
      " 12   Faridabad           7738 non-null   uint8  \n",
      " 13   Ghaziabad           7738 non-null   uint8  \n",
      " 14   Greater Noida       7738 non-null   uint8  \n",
      " 15   Gurgaon             7738 non-null   uint8  \n",
      " 16   New Delhi - Dwarka  7738 non-null   uint8  \n",
      " 17   New Delhi - East    7738 non-null   uint8  \n",
      " 18   New Delhi - South   7738 non-null   uint8  \n",
      " 19   New Delhi - West    7738 non-null   uint8  \n",
      " 20   Noida               7738 non-null   uint8  \n",
      " 21  uncommon             7738 non-null   uint8  \n",
      "dtypes: float64(9), int64(3), uint8(10)\n",
      "memory usage: 801.1 KB\n"
     ]
    }
   ],
   "source": [
    "final_df=final_df.drop('city_name1',axis=1)\n",
    "final_df.info()"
   ]
  },
  {
   "cell_type": "markdown",
   "id": "2aff4dcb",
   "metadata": {},
   "source": [
    "## 6)Model Training"
   ]
  },
  {
   "cell_type": "code",
   "execution_count": 45,
   "id": "c46f39de",
   "metadata": {},
   "outputs": [],
   "source": [
    "x=final_df.drop(\"price\",axis=1)\n",
    "y=final_df['price']"
   ]
  },
  {
   "cell_type": "code",
   "execution_count": 46,
   "id": "b4e375ea",
   "metadata": {},
   "outputs": [
    {
     "data": {
      "text/plain": [
       "((5416, 21), (2322, 21), (5416,), (2322,))"
      ]
     },
     "execution_count": 46,
     "metadata": {},
     "output_type": "execute_result"
    }
   ],
   "source": [
    "x_train,x_test,y_train,y_test=train_test_split(x,y,test_size=0.3,random_state=5)\n",
    "x_train.shape,x_test.shape,y_train.shape,y_test.shape"
   ]
  },
  {
   "cell_type": "markdown",
   "id": "a3a0cecf",
   "metadata": {},
   "source": [
    "# LINEAR_REGRESSION"
   ]
  },
  {
   "cell_type": "code",
   "execution_count": 47,
   "id": "c13c414f",
   "metadata": {},
   "outputs": [
    {
     "data": {
      "text/plain": [
       "LinearRegression()"
      ]
     },
     "execution_count": 47,
     "metadata": {},
     "output_type": "execute_result"
    }
   ],
   "source": [
    "lr=LinearRegression()\n",
    "lr.fit(x_train,y_train)"
   ]
  },
  {
   "cell_type": "markdown",
   "id": "72f7f236",
   "metadata": {},
   "source": [
    "## 7)Model Evaluation"
   ]
  },
  {
   "cell_type": "code",
   "execution_count": 48,
   "id": "c419e4b5",
   "metadata": {},
   "outputs": [],
   "source": [
    "y_pred_test=lr.predict(x_test)\n",
    "def test_train_data(y_actual,y_predicted):\n",
    "    mse=mean_squared_error(y_actual,y_predicted)\n",
    "    print(\"mean_squared_error==\",mse)\n",
    "    rmse=np.sqrt(mse)\n",
    "    print(\"rmse==\",rmse)\n",
    "    mae=mean_absolute_error(y_actual,y_predicted)\n",
    "    print(\"mean_absolute_error==\",mae)\n",
    "    R2=r2_score(y_actual,y_predicted)\n",
    "    print(\"r2_score==\",R2)\n"
   ]
  },
  {
   "cell_type": "code",
   "execution_count": 49,
   "id": "8b3a93b5",
   "metadata": {},
   "outputs": [
    {
     "name": "stdout",
     "output_type": "stream",
     "text": [
      "mean_squared_error== 3188823217383.096\n",
      "rmse== 1785727.643674448\n",
      "mean_absolute_error== 968979.3540048043\n",
      "r2_score== 0.9382678484628982\n"
     ]
    }
   ],
   "source": [
    "test_train_data(y_test,y_pred_test)"
   ]
  },
  {
   "cell_type": "code",
   "execution_count": 50,
   "id": "f27d8640",
   "metadata": {},
   "outputs": [
    {
     "name": "stdout",
     "output_type": "stream",
     "text": [
      "mean_squared_error== 3544775118632.805\n",
      "rmse== 1882757.318039902\n",
      "mean_absolute_error== 991889.965889494\n",
      "r2_score== 0.9323029065473427\n"
     ]
    }
   ],
   "source": [
    "y_pred_train=lr.predict(x_train)\n",
    "test_train_data(y_train,y_pred_train)"
   ]
  },
  {
   "cell_type": "markdown",
   "id": "0673c45c",
   "metadata": {},
   "source": [
    "# KNNREGRESSOR"
   ]
  },
  {
   "cell_type": "code",
   "execution_count": 51,
   "id": "d651c5bf",
   "metadata": {},
   "outputs": [],
   "source": [
    "#Transforming data to normal_scaling\n",
    "from sklearn.preprocessing import MinMaxScaler"
   ]
  },
  {
   "cell_type": "code",
   "execution_count": 52,
   "id": "d6000085",
   "metadata": {},
   "outputs": [],
   "source": [
    "norm_scaler=MinMaxScaler()\n",
    "x_train_trf=norm_scaler.fit_transform(x_train)\n",
    "x_test_trf=norm_scaler.transform(x_test)"
   ]
  },
  {
   "cell_type": "code",
   "execution_count": 53,
   "id": "88e62345",
   "metadata": {},
   "outputs": [
    {
     "data": {
      "text/plain": [
       "KNeighborsRegressor()"
      ]
     },
     "execution_count": 53,
     "metadata": {},
     "output_type": "execute_result"
    }
   ],
   "source": [
    "knn_reg=KNeighborsRegressor()\n",
    "knn_reg.fit(x_train_trf,y_train)"
   ]
  },
  {
   "cell_type": "code",
   "execution_count": 54,
   "id": "037712a7",
   "metadata": {},
   "outputs": [
    {
     "name": "stdout",
     "output_type": "stream",
     "text": [
      "mean_squared_error== 12248890744186.047\n",
      "rmse== 3499841.5312962453\n",
      "mean_absolute_error== 1605947.459086994\n",
      "r2_score== 0.7628747885867344\n"
     ]
    }
   ],
   "source": [
    "y_pred_test_knn=knn_reg.predict(x_test_trf)\n",
    "test_train_data(y_test,y_pred_test_knn)"
   ]
  },
  {
   "cell_type": "code",
   "execution_count": 55,
   "id": "e3e48d02",
   "metadata": {},
   "outputs": [
    {
     "name": "stdout",
     "output_type": "stream",
     "text": [
      "mean_squared_error== 6979201098966.026\n",
      "rmse== 2641817.7641476383\n",
      "mean_absolute_error== 1287301.329394387\n",
      "r2_score== 0.8667132291303656\n"
     ]
    }
   ],
   "source": [
    "y_pred_train_knn=knn_reg.predict(x_train_trf)\n",
    "test_train_data(y_train,y_pred_train_knn)"
   ]
  },
  {
   "cell_type": "raw",
   "id": "4bcc8931",
   "metadata": {},
   "source": [
    "Assumption Accuracy=90%\n",
    "Training Accuracy=86%\n",
    "Testing_Accuracy=76%\n",
    "\n",
    "LOW BIAS & HIGH VARIANCE >>> OVERFIT MODEL\n",
    "Therefore go for hyperparameter tuning"
   ]
  },
  {
   "cell_type": "markdown",
   "id": "4c16d8d7",
   "metadata": {},
   "source": [
    "#### Hyperparameter tuning"
   ]
  },
  {
   "cell_type": "code",
   "execution_count": 56,
   "id": "83bd8648",
   "metadata": {},
   "outputs": [],
   "source": [
    "knn_reg_hyp=KNeighborsRegressor()"
   ]
  },
  {
   "cell_type": "code",
   "execution_count": null,
   "id": "e2d6bd0e",
   "metadata": {},
   "outputs": [],
   "source": [
    "# n_neighbors : int, default=5\n",
    "#     Number of neighbors to use by default for :meth:`kneighbors` queries."
   ]
  },
  {
   "cell_type": "code",
   "execution_count": null,
   "id": "89640e16",
   "metadata": {},
   "outputs": [],
   "source": [
    "# p : int, default=2\n",
    "#     Power parameter for the Minkowski metric. When p = 1, this is\n",
    "#     equivalent to using manhattan_distance (l1), and euclidean_distance\n",
    "#     (l2) for p = 2. For arbitrary p, minkowski_distance (l_p) is used."
   ]
  },
  {
   "cell_type": "code",
   "execution_count": 57,
   "id": "b540f99f",
   "metadata": {},
   "outputs": [],
   "source": [
    "hyp={'n_neighbors':np.arange(5,25),'p':[1,2]}"
   ]
  },
  {
   "cell_type": "code",
   "execution_count": 58,
   "id": "2b9ad3ab",
   "metadata": {},
   "outputs": [
    {
     "data": {
      "text/plain": [
       "RandomizedSearchCV(estimator=KNeighborsRegressor(),\n",
       "                   param_distributions={'n_neighbors': array([ 5,  6,  7,  8,  9, 10, 11, 12, 13, 14, 15, 16, 17, 18, 19, 20, 21,\n",
       "       22, 23, 24]),\n",
       "                                        'p': [1, 2]})"
      ]
     },
     "execution_count": 58,
     "metadata": {},
     "output_type": "execute_result"
    }
   ],
   "source": [
    "rscv=RandomizedSearchCV(knn_reg_hyp,hyp)\n",
    "rscv.fit(x_train_trf,y_train)"
   ]
  },
  {
   "cell_type": "code",
   "execution_count": 59,
   "id": "5c379f26",
   "metadata": {},
   "outputs": [
    {
     "data": {
      "text/plain": [
       "KNeighborsRegressor(n_neighbors=7)"
      ]
     },
     "execution_count": 59,
     "metadata": {},
     "output_type": "execute_result"
    }
   ],
   "source": [
    "rscv.best_estimator_"
   ]
  },
  {
   "cell_type": "code",
   "execution_count": 60,
   "id": "c204f893",
   "metadata": {},
   "outputs": [],
   "source": [
    "knn_reg_hyp=rscv.best_estimator_"
   ]
  },
  {
   "cell_type": "code",
   "execution_count": 61,
   "id": "30d98c2e",
   "metadata": {},
   "outputs": [
    {
     "name": "stdout",
     "output_type": "stream",
     "text": [
      "mean_squared_error== 13188396559967.656\n",
      "rmse== 3631583.202952626\n",
      "mean_absolute_error== 1658817.5218407777\n",
      "r2_score== 0.7446869771478128\n"
     ]
    }
   ],
   "source": [
    "y_pred_test_knn=knn_reg_hyp.predict(x_test_trf)\n",
    "test_train_data(y_test,y_pred_test_knn)"
   ]
  },
  {
   "cell_type": "code",
   "execution_count": 62,
   "id": "87173b86",
   "metadata": {},
   "outputs": [
    {
     "name": "stdout",
     "output_type": "stream",
     "text": [
      "mean_squared_error== 8405252540469.66\n",
      "rmse== 2899181.3569471054\n",
      "mean_absolute_error== 1430847.752690441\n",
      "r2_score== 0.8394789097524405\n"
     ]
    }
   ],
   "source": [
    "y_pred_train_knn=knn_reg_hyp.predict(x_train_trf)\n",
    "test_train_data(y_train,y_pred_train_knn)"
   ]
  },
  {
   "cell_type": "raw",
   "id": "07fd4445",
   "metadata": {},
   "source": [
    "Assumption Accuracy=90%\n",
    "Training Accuracy=84%\n",
    "Testing_Accuracy=77%\n",
    "HIGH BIAS & HIGH VARIANCE >>> OVERFIT MODEL\n",
    "Therefore go for decision tree"
   ]
  },
  {
   "cell_type": "markdown",
   "id": "a3e97b59",
   "metadata": {},
   "source": [
    "# DECISIONTREE"
   ]
  },
  {
   "cell_type": "code",
   "execution_count": 63,
   "id": "86405359",
   "metadata": {},
   "outputs": [
    {
     "data": {
      "text/plain": [
       "DecisionTreeRegressor(random_state=20)"
      ]
     },
     "execution_count": 63,
     "metadata": {},
     "output_type": "execute_result"
    }
   ],
   "source": [
    "dt_model=DecisionTreeRegressor(random_state=20)\n",
    "dt_model.fit(x_train,y_train)"
   ]
  },
  {
   "cell_type": "code",
   "execution_count": 64,
   "id": "1fb3dd93",
   "metadata": {},
   "outputs": [
    {
     "name": "stdout",
     "output_type": "stream",
     "text": [
      "mean_squared_error== 922222437553.8329\n",
      "rmse== 960324.1315065621\n",
      "mean_absolute_error== 215602.92850990526\n",
      "r2_score== 0.9821467759781589\n"
     ]
    }
   ],
   "source": [
    "y_pred_test_dt=dt_model.predict(x_test)\n",
    "test_train_data(y_test,y_pred_test_dt)"
   ]
  },
  {
   "cell_type": "code",
   "execution_count": 65,
   "id": "1de4837b",
   "metadata": {},
   "outputs": [
    {
     "name": "stdout",
     "output_type": "stream",
     "text": [
      "mean_squared_error== 0.0\n",
      "rmse== 0.0\n",
      "mean_absolute_error== 0.0\n",
      "r2_score== 1.0\n"
     ]
    }
   ],
   "source": [
    "y_pred_train_dt=dt_model.predict(x_train)\n",
    "test_train_data(y_train,y_pred_train_dt)"
   ]
  },
  {
   "cell_type": "markdown",
   "id": "8e2e8dd2",
   "metadata": {},
   "source": [
    "#### Hyperparameter tuning"
   ]
  },
  {
   "cell_type": "code",
   "execution_count": 66,
   "id": "316ed498",
   "metadata": {},
   "outputs": [],
   "source": [
    "dt_model_hyp=DecisionTreeRegressor()"
   ]
  },
  {
   "cell_type": "code",
   "execution_count": 67,
   "id": "cc1b4eb2",
   "metadata": {},
   "outputs": [],
   "source": [
    "# criterion : {\"squared_error\", \"friedman_mse\", \"absolute_error\",             \"poisson\"}, default=\"squared_error\"\n",
    "#     The function to measure the quality of a split. Supported criteria\n",
    "#     are \"squared_error\" for the mean squared error, which is equal to\n",
    "#     variance reduction as feature selection criterion and minimizes the L2\n",
    "#     loss using the mean of each terminal node, \"friedman_mse\", which uses\n",
    "#     mean squared error with Friedman's improvement score for potential\n",
    "#     splits, \"absolute_error\" for the mean absolute error, which minimizes\n",
    "#     the L1 loss using the median of each terminal node, and \"poisson\" which\n",
    "#     uses reduction in Poisson deviance to find splits."
   ]
  },
  {
   "cell_type": "code",
   "execution_count": 68,
   "id": "192f2b87",
   "metadata": {},
   "outputs": [],
   "source": [
    "# max_depth : int, default=None\n",
    "#     The maximum depth of the tree. If None, then nodes are expanded until\n",
    "#     all leaves are pure or until all leaves contain less than\n",
    "#     min_samples_split samples.\n",
    "\n",
    "# min_samples_split : int or float, default=2\n",
    "#     The minimum number of samples required to split an internal node:\n",
    "\n",
    "#     - If int, then consider `min_samples_split` as the minimum number.\n",
    "#     - If float, then `min_samples_split` is a fraction and\n",
    "#       `ceil(min_samples_split * n_samples)` are the minimum\n",
    "#       number of samples for each split."
   ]
  },
  {
   "cell_type": "code",
   "execution_count": 69,
   "id": "f639a74d",
   "metadata": {},
   "outputs": [],
   "source": [
    "\n",
    "# min_samples_leaf : int or float, default=1\n",
    "#     The minimum number of samples required to be at a leaf node.\n",
    "#     A split point at any depth will only be considered if it leaves at\n",
    "#     least ``min_samples_leaf`` training samples in each of the left and\n",
    "#     right branches.  This may have the effect of smoothing the model,\n",
    "#     especially in regression.\n",
    "\n",
    "#     - If int, then consider `min_samples_leaf` as the minimum number.\n",
    "#     - If float, then `min_samples_leaf` is a fraction and\n",
    "#       `ceil(min_samples_leaf * n_samples)` are the minimum\n",
    "#       number of samples for each node."
   ]
  },
  {
   "cell_type": "code",
   "execution_count": 70,
   "id": "34216690",
   "metadata": {},
   "outputs": [],
   "source": [
    "hyp={'criterion':['squared_error','absolute_error'],\n",
    "    'max_depth':np.arange(5,15),\n",
    "    'min_samples_split':np.arange(2,5),\n",
    "    'min_samples_leaf':np.arange(1,5),\n",
    "    'random_state':np.arange(5,100,10),\n",
    "   }"
   ]
  },
  {
   "cell_type": "code",
   "execution_count": 71,
   "id": "d5614e4b",
   "metadata": {},
   "outputs": [
    {
     "data": {
      "text/plain": [
       "RandomizedSearchCV(cv=7, estimator=DecisionTreeRegressor(),\n",
       "                   param_distributions={'criterion': ['squared_error',\n",
       "                                                      'absolute_error'],\n",
       "                                        'max_depth': array([ 5,  6,  7,  8,  9, 10, 11, 12, 13, 14]),\n",
       "                                        'min_samples_leaf': array([1, 2, 3, 4]),\n",
       "                                        'min_samples_split': array([2, 3, 4]),\n",
       "                                        'random_state': array([ 5, 15, 25, 35, 45, 55, 65, 75, 85, 95])})"
      ]
     },
     "execution_count": 71,
     "metadata": {},
     "output_type": "execute_result"
    }
   ],
   "source": [
    "rscv=RandomizedSearchCV(dt_model_hyp,hyp,cv=7)\n",
    "rscv.fit(x_train,y_train)"
   ]
  },
  {
   "cell_type": "code",
   "execution_count": 78,
   "id": "6e98be3b",
   "metadata": {},
   "outputs": [
    {
     "data": {
      "text/plain": [
       "DecisionTreeRegressor(max_depth=14, min_samples_leaf=3, random_state=65)"
      ]
     },
     "execution_count": 78,
     "metadata": {},
     "output_type": "execute_result"
    }
   ],
   "source": [
    "rscv.best_estimator_"
   ]
  },
  {
   "cell_type": "code",
   "execution_count": 79,
   "id": "b7be424e",
   "metadata": {},
   "outputs": [
    {
     "data": {
      "text/plain": [
       "{'random_state': 65,\n",
       " 'min_samples_split': 2,\n",
       " 'min_samples_leaf': 3,\n",
       " 'max_depth': 14,\n",
       " 'criterion': 'squared_error'}"
      ]
     },
     "execution_count": 79,
     "metadata": {},
     "output_type": "execute_result"
    }
   ],
   "source": [
    "rscv.best_params_"
   ]
  },
  {
   "cell_type": "code",
   "execution_count": 80,
   "id": "4b5a5576",
   "metadata": {},
   "outputs": [],
   "source": [
    "dt_hyp_model=DecisionTreeRegressor(random_state= 5,\n",
    " min_samples_split= 2,\n",
    " min_samples_leaf= 1,\n",
    " max_depth= 12,\n",
    " criterion= 'squared_error')"
   ]
  },
  {
   "cell_type": "code",
   "execution_count": 81,
   "id": "9a8287e4",
   "metadata": {},
   "outputs": [
    {
     "data": {
      "text/plain": [
       "DecisionTreeRegressor(max_depth=12, random_state=5)"
      ]
     },
     "execution_count": 81,
     "metadata": {},
     "output_type": "execute_result"
    }
   ],
   "source": [
    "dt_hyp_model.fit(x_train,y_train)"
   ]
  },
  {
   "cell_type": "code",
   "execution_count": 82,
   "id": "ad85d8a6",
   "metadata": {},
   "outputs": [
    {
     "name": "stdout",
     "output_type": "stream",
     "text": [
      "mean_squared_error== 1115861774588.9478\n",
      "rmse== 1056343.587375314\n",
      "mean_absolute_error== 234894.57099397632\n",
      "r2_score== 0.9783981288809374\n"
     ]
    }
   ],
   "source": [
    "y_pred_test_dt_hyp=dt_hyp_model.predict(x_test)\n",
    "test_train_data(y_test,y_pred_test_dt_hyp)"
   ]
  },
  {
   "cell_type": "code",
   "execution_count": 83,
   "id": "3afde306",
   "metadata": {},
   "outputs": [
    {
     "name": "stdout",
     "output_type": "stream",
     "text": [
      "mean_squared_error== 5768694349.845719\n",
      "rmse== 75951.921304505\n",
      "mean_absolute_error== 33070.68643405886\n",
      "r2_score== 0.9998898311381028\n"
     ]
    }
   ],
   "source": [
    "y_pred_train_dt_hyp=dt_hyp_model.predict(x_train)\n",
    "test_train_data(y_train,y_pred_train_dt_hyp)"
   ]
  },
  {
   "cell_type": "code",
   "execution_count": 84,
   "id": "db60080c",
   "metadata": {},
   "outputs": [],
   "source": [
    "#GENERALIZED MODEL"
   ]
  },
  {
   "cell_type": "markdown",
   "id": "63a3ded2",
   "metadata": {},
   "source": [
    "## 8)Testing"
   ]
  },
  {
   "cell_type": "code",
   "execution_count": 85,
   "id": "de07c086",
   "metadata": {},
   "outputs": [],
   "source": [
    "# import pickle\n",
    "# with open ('dt_hyp_model.pkl','wb') as file:\n",
    "#     pickle.dump(dt_hyp_model,file)"
   ]
  },
  {
   "cell_type": "code",
   "execution_count": null,
   "id": "dccca592",
   "metadata": {},
   "outputs": [],
   "source": [
    "!pip install flask"
   ]
  },
  {
   "cell_type": "code",
   "execution_count": null,
   "id": "ad1706a1",
   "metadata": {},
   "outputs": [],
   "source": []
  },
  {
   "cell_type": "code",
   "execution_count": null,
   "id": "9611a636",
   "metadata": {},
   "outputs": [],
   "source": []
  }
 ],
 "metadata": {
  "kernelspec": {
   "display_name": "Python 3 (ipykernel)",
   "language": "python",
   "name": "python3"
  },
  "language_info": {
   "codemirror_mode": {
    "name": "ipython",
    "version": 3
   },
   "file_extension": ".py",
   "mimetype": "text/x-python",
   "name": "python",
   "nbconvert_exporter": "python",
   "pygments_lexer": "ipython3",
   "version": "3.9.12"
  },
  "vscode": {
   "interpreter": {
    "hash": "aee8b7b246df8f9039afb4144a1f6fd8d2ca17a180786b69acc140d282b71a49"
   }
  }
 },
 "nbformat": 4,
 "nbformat_minor": 5
}
